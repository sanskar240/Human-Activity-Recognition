{
  "nbformat": 4,
  "nbformat_minor": 0,
  "metadata": {
    "colab": {
      "provenance": []
    },
    "kernelspec": {
      "name": "python3",
      "display_name": "Python 3"
    },
    "language_info": {
      "name": "python"
    }
  },
  "cells": [
    {
      "cell_type": "code",
      "source": [
        "import pandas as pd\n",
        "from sklearn.preprocessing import StandardScaler\n",
        "from sklearn.svm import SVC\n",
        "from sklearn.metrics import classification_report, confusion_matrix\n",
        "\n",
        "# Load feature names\n",
        "features = pd.read_csv('features.txt', sep='\\s+', header=None)\n",
        "feature_names = features[1].tolist()\n",
        "\n",
        "# Load activity labels\n",
        "activity_labels = pd.read_csv('activity_labels.txt', sep='\\s+', header=None)\n",
        "activity_labels_dict = dict(zip(activity_labels[0], activity_labels[1]))\n",
        "\n",
        "# Load training data\n",
        "X_train = pd.read_csv('X_train.txt', sep='\\s+', header=None)\n",
        "y_train = pd.read_csv('y_train.txt', sep='\\s+', header=None)\n",
        "\n",
        "# Load testing data\n",
        "X_test = pd.read_csv('X_test.txt', sep='\\s+', header=None)\n",
        "y_test = pd.read_csv('y_test.txt', sep='\\s+', header=None)\n",
        "\n",
        "# Assign feature names to X_train and X_test\n",
        "X_train.columns = feature_names\n",
        "X_test.columns = feature_names\n",
        "\n",
        "# Map activity labels to their respective names\n",
        "y_train[0] = y_train[0].map(activity_labels_dict)\n",
        "y_test[0] = y_test[0].map(activity_labels_dict)\n",
        "\n",
        "# Rename the columns for clarity\n",
        "y_train.columns = ['Activity']\n",
        "y_test.columns = ['Activity']\n",
        "\n",
        "# Standardize features\n",
        "scaler = StandardScaler()\n",
        "X_train_scaled = scaler.fit_transform(X_train)\n",
        "X_test_scaled = scaler.transform(X_test)\n",
        "\n",
        "# Create and train the SVM model\n",
        "model = SVC(kernel='rbf')  # Using the Radial Basis Function kernel\n",
        "model.fit(X_train_scaled, y_train['Activity'])\n",
        "\n",
        "# Step 1: Making Predictions on Test Data\n",
        "print(\"Making predictions on the test dataset...\")\n",
        "y_pred = model.predict(X_test_scaled)\n",
        "\n",
        "# Step 2: Displaying Predictions\n",
        "print(\"\\nPredicted Activities for the Test Set:\")\n",
        "for i in range(10):  # Display the first 10 predictions for brevity\n",
        "    print(f\"Observation {i + 1}: Predicted Activity = {y_pred[i]}, Actual Activity = {y_test['Activity'].iloc[i]}\")\n",
        "\n",
        "# Step 3: Evaluating Model Performance\n",
        "print(\"\\nEvaluating Model Performance...\")\n",
        "print(\"Confusion Matrix:\")\n",
        "print(confusion_matrix(y_test['Activity'], y_pred))\n",
        "print(\"\\nClassification Report:\")\n",
        "print(classification_report(y_test['Activity'], y_pred))\n"
      ],
      "metadata": {
        "colab": {
          "base_uri": "https://localhost:8080/"
        },
        "id": "jVabhh4o6Ufb",
        "outputId": "83f6188d-665f-4b96-b0a6-a2cec7dce988"
      },
      "execution_count": 11,
      "outputs": [
        {
          "output_type": "stream",
          "name": "stdout",
          "text": [
            "Making predictions on the test dataset...\n",
            "\n",
            "Predicted Activities for the Test Set:\n",
            "Observation 1: Predicted Activity = STANDING, Actual Activity = STANDING\n",
            "Observation 2: Predicted Activity = STANDING, Actual Activity = STANDING\n",
            "Observation 3: Predicted Activity = STANDING, Actual Activity = STANDING\n",
            "Observation 4: Predicted Activity = STANDING, Actual Activity = STANDING\n",
            "Observation 5: Predicted Activity = STANDING, Actual Activity = STANDING\n",
            "Observation 6: Predicted Activity = STANDING, Actual Activity = STANDING\n",
            "Observation 7: Predicted Activity = STANDING, Actual Activity = STANDING\n",
            "Observation 8: Predicted Activity = STANDING, Actual Activity = STANDING\n",
            "Observation 9: Predicted Activity = STANDING, Actual Activity = STANDING\n",
            "Observation 10: Predicted Activity = STANDING, Actual Activity = STANDING\n",
            "\n",
            "Evaluating Model Performance...\n",
            "Confusion Matrix:\n",
            "[[537   0   0   0   0   0]\n",
            " [  3 441  46   0   0   1]\n",
            " [  0  29 503   0   0   0]\n",
            " [  0   0   0 482   8   6]\n",
            " [  0   0   0   6 386  28]\n",
            " [  0   0   0  14   1 456]]\n",
            "\n",
            "Classification Report:\n",
            "                    precision    recall  f1-score   support\n",
            "\n",
            "            LAYING       0.99      1.00      1.00       537\n",
            "           SITTING       0.94      0.90      0.92       491\n",
            "          STANDING       0.92      0.95      0.93       532\n",
            "           WALKING       0.96      0.97      0.97       496\n",
            "WALKING_DOWNSTAIRS       0.98      0.92      0.95       420\n",
            "  WALKING_UPSTAIRS       0.93      0.97      0.95       471\n",
            "\n",
            "          accuracy                           0.95      2947\n",
            "         macro avg       0.95      0.95      0.95      2947\n",
            "      weighted avg       0.95      0.95      0.95      2947\n",
            "\n"
          ]
        }
      ]
    }
  ]
}